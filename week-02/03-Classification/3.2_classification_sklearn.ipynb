{
 "cells": [
  {
   "cell_type": "code",
   "execution_count": null,
   "id": "d408967b-9106-492c-911b-c8edabff4629",
   "metadata": {},
   "outputs": [],
   "source": [
    "import matplotlib\n",
    "from matplotlib import pyplot as plt\n",
    "import seaborn as sns\n",
    "import numpy as np\n",
    "import pandas as pd\n",
    "\n",
    "from sklearn import datasets\n",
    "\n",
    "# from sklearn.inspection import DecisionBoundaryDisplay\n",
    "from sklearn.linear_model import LogisticRegression\n",
    "from sklearn.dummy import DummyClassifier\n",
    "from sklearn.neighbors import KNeighborsClassifier\n",
    "\n",
    "from sklearn.model_selection import train_test_split\n",
    "from sklearn.metrics import confusion_matrix\n",
    "from sklearn.metrics import ConfusionMatrixDisplay\n",
    "from sklearn.metrics import classification_report"
   ]
  },
  {
   "cell_type": "code",
   "execution_count": null,
   "id": "b21f88db-dbf7-4f8a-bca5-e8c847b7a24a",
   "metadata": {},
   "outputs": [],
   "source": [
    "RANDOM_SEED = 0x0"
   ]
  },
  {
   "cell_type": "markdown",
   "id": "16cd496e-bc0a-44c5-8e62-bea1f09b71c1",
   "metadata": {},
   "source": [
    "## Nearest neighbor"
   ]
  },
  {
   "cell_type": "code",
   "execution_count": null,
   "id": "eb08b447-853f-4463-9c77-c57d3060e15f",
   "metadata": {},
   "outputs": [],
   "source": [
    "X, y = datasets.make_blobs(\n",
    "  n_samples=1000,\n",
    "  n_features=2,\n",
    "  centers=np.array([\n",
    "    [-2, -2],\n",
    "    [2, 2]\n",
    "  ]),\n",
    "  cluster_std=2.5,\n",
    "  shuffle=True,\n",
    "  random_state=RANDOM_SEED,\n",
    ")"
   ]
  },
  {
   "cell_type": "code",
   "execution_count": null,
   "id": "a3630300-e530-4132-b2a1-0a4def55c0e1",
   "metadata": {},
   "outputs": [],
   "source": [
    "df = pd.DataFrame(X, columns=['x1', 'x2',]) \n",
    "df['class'] = y\n",
    "ax = sns.jointplot(data=df, x=\"x1\", y=\"x2\", hue=\"class\", s=80)\n",
    "plt.show()"
   ]
  },
  {
   "cell_type": "code",
   "execution_count": null,
   "id": "c8dd5661-7063-4991-8244-5d10952a0ef1",
   "metadata": {},
   "outputs": [],
   "source": [
    "X_train, X_test, y_train, y_test = train_test_split(X, y, test_size=0.2, random_state=RANDOM_SEED)"
   ]
  },
  {
   "cell_type": "code",
   "execution_count": null,
   "id": "565e62fd-a299-44fe-a96d-a2159795fdbc",
   "metadata": {},
   "outputs": [],
   "source": [
    "clf = DummyClassifier(strategy='uniform')\n",
    "clf.fit(X_train, y_train)\n",
    "y_hat_test = clf.predict(X_test)\n",
    "print(classification_report(y_test, y_hat_test))"
   ]
  },
  {
   "cell_type": "code",
   "execution_count": null,
   "id": "ed455483-cbe5-409a-8ccc-2bb675b96e0c",
   "metadata": {},
   "outputs": [],
   "source": [
    "clf = KNeighborsClassifier(n_neighbors=5, weights='distance')\n",
    "clf.fit(X_train,y_train)"
   ]
  },
  {
   "cell_type": "code",
   "execution_count": null,
   "id": "385ab8c4-5a8c-4045-85ca-c6d31455f6ba",
   "metadata": {},
   "outputs": [],
   "source": [
    "y_hat_test = clf.predict(X_test)"
   ]
  },
  {
   "cell_type": "code",
   "execution_count": null,
   "id": "79bbba3f-c01b-4a62-9de2-62ad49e78b8d",
   "metadata": {},
   "outputs": [],
   "source": [
    "cm = confusion_matrix(y_test, y_hat_test, labels=clf.classes_)\n",
    "disp = ConfusionMatrixDisplay(confusion_matrix=cm, display_labels=clf.classes_)\n",
    "disp.plot()\n",
    "plt.show()"
   ]
  },
  {
   "cell_type": "code",
   "execution_count": null,
   "id": "8f4eceb3-74e8-4e88-acad-1c7c414b20c4",
   "metadata": {},
   "outputs": [],
   "source": [
    "print(classification_report(y_test, y_hat_test))"
   ]
  },
  {
   "cell_type": "code",
   "execution_count": null,
   "id": "71500b05-5956-4551-809c-29e52cd8f09a",
   "metadata": {},
   "outputs": [],
   "source": [
    "# Identify the decision boundary by running the model prediction on a grid\n",
    "# point in the mesh [x_min, x_max]x[y_min, y_max].\n",
    "x_min, x_max = X[:, 0].min() - .5, X[:, 0].max() + .5\n",
    "y_min, y_max = X[:, 1].min() - .5, X[:, 1].max() + .5\n",
    "h = .02  # step size in the mesh\n",
    "xx, yy = np.meshgrid(np.arange(x_min, x_max, h), np.arange(y_min, y_max, h))\n",
    "Z = clf.predict(np.c_[xx.ravel(), yy.ravel()])"
   ]
  },
  {
   "cell_type": "code",
   "execution_count": null,
   "id": "c48999eb-eaae-47d3-8ada-d47fdc3710f3",
   "metadata": {},
   "outputs": [],
   "source": [
    "# blue and orange are the first two elements in the seaborn default color palette\n",
    "my_cmap = matplotlib.colors.ListedColormap(sns.color_palette().as_hex()[:2])\n",
    "\n",
    "# Put the result into a color plot\n",
    "Z = Z.reshape(xx.shape)\n",
    "\n",
    "fig, ax = plt.subplots(figsize=[6, 6])\n",
    "\n",
    "ax.pcolormesh(xx, yy, Z, cmap=my_cmap, alpha=0.2)\n",
    "\n",
    "# Plot also the training points\n",
    "scatter = ax.scatter(X[:, 0], X[:, 1], c=y, edgecolors='white', cmap=my_cmap, s=80)\n",
    "legend = ax.legend(*scatter.legend_elements(), loc=\"upper right\", title=\"Class\", fontsize=14)\n",
    "ax.add_artist(legend)\n",
    "\n",
    "ax.set_xlabel('x1', fontsize=12)\n",
    "ax.set_ylabel('x2', fontsize=12)\n",
    "ax.set_xlim(xx.min(), xx.max())\n",
    "ax.set_ylim(yy.min(), yy.max())\n",
    "# ax.set_xticks(())\n",
    "# ax.set_yticks(())\n",
    "ax.set_title('Nearest Neighbor', fontsize=18)\n",
    "# ax.legend(loc=2, fontsize=14)\n",
    "\n",
    "plt.show()"
   ]
  },
  {
   "cell_type": "markdown",
   "id": "b9ff6b5c-ed4b-44b5-ad7e-ae3d8d751764",
   "metadata": {},
   "source": [
    "## Logistic regression"
   ]
  },
  {
   "cell_type": "code",
   "execution_count": null,
   "id": "4f3bc46f-0222-419b-abbe-4fec5ac37b5a",
   "metadata": {},
   "outputs": [],
   "source": [
    "clf = LogisticRegression(penalty=None, fit_intercept=True, solver='lbfgs', max_iter=1000, multi_class='auto')\n",
    "clf.fit(X_train,y_train)"
   ]
  },
  {
   "cell_type": "code",
   "execution_count": null,
   "id": "11346db2-e3e4-4d38-9453-c6b3f2c1914f",
   "metadata": {},
   "outputs": [],
   "source": [
    "y_hat_test = clf.predict(X_test)"
   ]
  },
  {
   "cell_type": "code",
   "execution_count": null,
   "id": "b1f16758-c161-4661-83da-ce31959a2c8d",
   "metadata": {},
   "outputs": [],
   "source": [
    "cm = confusion_matrix(y_test, y_hat_test, labels=clf.classes_)\n",
    "disp = ConfusionMatrixDisplay(confusion_matrix=cm, display_labels=clf.classes_)\n",
    "disp.plot()\n",
    "plt.show()"
   ]
  },
  {
   "cell_type": "code",
   "execution_count": null,
   "id": "d59cd999-002e-4bc5-a622-e3dbc7840a34",
   "metadata": {},
   "outputs": [],
   "source": [
    "print(classification_report(y_test, y_hat_test))"
   ]
  },
  {
   "cell_type": "code",
   "execution_count": null,
   "id": "761ad921-2708-43ca-9e52-c4d6624bf586",
   "metadata": {},
   "outputs": [],
   "source": [
    "# Identify the decision boundary by running the model prediction on a grid\n",
    "# point in the mesh [x_min, x_max]x[y_min, y_max].\n",
    "x_min, x_max = X[:, 0].min() - .5, X[:, 0].max() + .5\n",
    "y_min, y_max = X[:, 1].min() - .5, X[:, 1].max() + .5\n",
    "h = .02  # step size in the mesh\n",
    "xx, yy = np.meshgrid(np.arange(x_min, x_max, h), np.arange(y_min, y_max, h))\n",
    "Z = clf.predict(np.c_[xx.ravel(), yy.ravel()])"
   ]
  },
  {
   "cell_type": "markdown",
   "id": "20b54eb0-2878-4055-abd7-6ea453000578",
   "metadata": {},
   "source": [
    "Plot the predictions on the grid together with the training data and the analytical solution for the decision boundary"
   ]
  },
  {
   "cell_type": "code",
   "execution_count": null,
   "id": "cae3cae3-e212-414a-881e-b312cd620f44",
   "metadata": {},
   "outputs": [],
   "source": [
    "# blue and orange are the first two elements in the seaborn default color palette\n",
    "my_cmap = matplotlib.colors.ListedColormap(sns.color_palette().as_hex()[:2])\n",
    "\n",
    "# Put the result into a color plot\n",
    "Z = Z.reshape(xx.shape)\n",
    "\n",
    "fig, ax = plt.subplots(figsize=[6, 6])\n",
    "\n",
    "ax.pcolormesh(xx, yy, Z, cmap=my_cmap, alpha=0.2)\n",
    "\n",
    "# Plot also the training points\n",
    "scatter = ax.scatter(X[:, 0], X[:, 1], c=y, edgecolors='white', cmap=my_cmap, s=80)\n",
    "legend = ax.legend(*scatter.legend_elements(), loc=\"upper right\", title=\"Class\", fontsize=14)\n",
    "ax.add_artist(legend)\n",
    "\n",
    "ax.set_xlabel('x1', fontsize=12)\n",
    "ax.set_ylabel('x2', fontsize=12)\n",
    "ax.set_xlim(xx.min(), xx.max())\n",
    "ax.set_ylim(yy.min(), yy.max())\n",
    "# ax.set_xticks(())\n",
    "# ax.set_yticks(())\n",
    "ax.set_title('Logistic Regression', fontsize=18)\n",
    "# ax.legend(loc=2, fontsize=14)\n",
    "\n",
    "plt.show()"
   ]
  },
  {
   "cell_type": "code",
   "execution_count": null,
   "id": "5cd9bc41-77b2-440a-97f4-4731b3ba65dd",
   "metadata": {},
   "outputs": [],
   "source": [
    "print(classification_report(y_test, y_hat_test))"
   ]
  },
  {
   "cell_type": "code",
   "execution_count": null,
   "id": "bfa106e1-8b3d-46b4-b516-55d7798c8eaf",
   "metadata": {},
   "outputs": [],
   "source": []
  },
  {
   "cell_type": "markdown",
   "id": "f71d7415-890c-4d0c-8ed3-0ce8e7499ca7",
   "metadata": {},
   "source": [
    "## Softmax regression"
   ]
  },
  {
   "cell_type": "code",
   "execution_count": null,
   "id": "9b13415f-fdcb-4f9e-81d9-dd25d07829c2",
   "metadata": {},
   "outputs": [],
   "source": [
    "X, y = datasets.make_blobs(\n",
    "  n_samples=[400,400,200],\n",
    "  n_features=2,\n",
    "  centers=np.array([\n",
    "    [0, -2],\n",
    "    [2, 2],\n",
    "    [-2, 2]\n",
    "  ]),\n",
    "  cluster_std=[1.5,1.5,2.5],\n",
    "  shuffle=True,\n",
    "  random_state=RANDOM_SEED,\n",
    ")"
   ]
  },
  {
   "cell_type": "code",
   "execution_count": null,
   "id": "b2987908-d80b-4c13-b576-bd8349f72208",
   "metadata": {},
   "outputs": [],
   "source": [
    "sns.color_palette()\n",
    "c_palette_3 = sns.color_palette().as_hex()[:3]\n",
    "\n",
    "df = pd.DataFrame(X, columns=['x1', 'x2',]) \n",
    "df['class'] = y\n",
    "ax = sns.jointplot(data=df, x=\"x1\", y=\"x2\", hue=\"class\", palette=c_palette_3, s=80)\n",
    "plt.show()"
   ]
  },
  {
   "cell_type": "code",
   "execution_count": null,
   "id": "ca5d7e28-dda8-4ba6-9cbd-17b96c5a63dc",
   "metadata": {},
   "outputs": [],
   "source": [
    "X_train, X_test, y_train, y_test = train_test_split(X, y, test_size=0.2, random_state=RANDOM_SEED)"
   ]
  },
  {
   "cell_type": "code",
   "execution_count": null,
   "id": "029b52c5-5ad7-4397-a0a9-7b9021b0bb68",
   "metadata": {},
   "outputs": [],
   "source": [
    "clf = LogisticRegression(penalty=None, fit_intercept=True, solver='lbfgs', max_iter=1000, multi_class='multinomial')\n",
    "clf.fit(X_train, y_train)"
   ]
  },
  {
   "cell_type": "code",
   "execution_count": null,
   "id": "a187ae5c-6cac-49bf-8aef-f579f1065745",
   "metadata": {},
   "outputs": [],
   "source": [
    "y_hat_test = clf.predict(X_test)"
   ]
  },
  {
   "cell_type": "code",
   "execution_count": null,
   "id": "8012fddf-cc9a-41d7-93ec-1e135aacd217",
   "metadata": {},
   "outputs": [],
   "source": [
    "cm = confusion_matrix(y_test, y_hat_test, labels=clf.classes_)\n",
    "disp = ConfusionMatrixDisplay(confusion_matrix=cm, display_labels=clf.classes_)\n",
    "disp.plot()\n",
    "plt.show()"
   ]
  },
  {
   "cell_type": "code",
   "execution_count": null,
   "id": "9c5c8520-ead5-48a0-b083-3929536ed4fc",
   "metadata": {},
   "outputs": [],
   "source": [
    "# Identify the decision boundary by running the model prediction on a grid\n",
    "# point in the mesh [x_min, x_max]x[y_min, y_max].\n",
    "x_min, x_max = X[:, 0].min() - .5, X[:, 0].max() + .5\n",
    "y_min, y_max = X[:, 1].min() - .5, X[:, 1].max() + .5\n",
    "h = .02  # step size in the mesh\n",
    "xx, yy = np.meshgrid(np.arange(x_min, x_max, h), np.arange(y_min, y_max, h))\n",
    "Z = clf.predict(np.c_[xx.ravel(), yy.ravel()])"
   ]
  },
  {
   "cell_type": "code",
   "execution_count": null,
   "id": "8fcee7e2-309b-4cf3-b200-05c4584b9da1",
   "metadata": {},
   "outputs": [],
   "source": [
    "# blue and orange are the first two elements in the seaborn default color palette\n",
    "# c_palette_3 = sns.color_palette().as_hex()[:3]\n",
    "my_cmap = matplotlib.colors.ListedColormap(c_palette_3)\n",
    "\n",
    "# Put the predictions on the grid into a color plot\n",
    "Z = Z.reshape(xx.shape)\n",
    "\n",
    "fig, ax = plt.subplots(figsize=[6, 6])\n",
    "\n",
    "ax.pcolormesh(xx, yy, Z, cmap=my_cmap, alpha=0.2) #plt.cm.Spectral)\n",
    "\n",
    "# Plot also the training points\n",
    "scatter = ax.scatter(X[:, 0], X[:, 1], c=y, edgecolors='white', cmap=my_cmap, s=80) #plt.cm.Spectral)\n",
    "legend = ax.legend(*scatter.legend_elements(), loc=\"upper right\", title=\"Expected Class\", fontsize=14)\n",
    "ax.add_artist(legend)\n",
    "\n",
    "ax.tick_params(axis='x', labelsize=14)\n",
    "ax.tick_params(axis='y', labelsize=14)\n",
    "ax.set_xlabel('x1', fontsize=18)\n",
    "ax.set_ylabel('x2', fontsize=18)\n",
    "ax.set_xlim(xx.min(), xx.max())\n",
    "ax.set_ylim(yy.min(), yy.max())\n",
    "\n",
    "ax.set_title('Softmax Regression on 3 Gaussian Clouds', fontsize=16)\n",
    "# plt.savefig('pics/softmax_3Gaussians.png', dpi=360)\n",
    "plt.show()"
   ]
  },
  {
   "cell_type": "code",
   "execution_count": null,
   "id": "2f453018-df58-42bf-a220-c346422f489b",
   "metadata": {},
   "outputs": [],
   "source": [
    "print(classification_report(y_test, y_hat_test))"
   ]
  },
  {
   "cell_type": "code",
   "execution_count": null,
   "id": "b4f3261e-0be8-4eca-a027-397228266bd9",
   "metadata": {},
   "outputs": [],
   "source": []
  }
 ],
 "metadata": {
  "kernelspec": {
   "display_name": "mlintro",
   "language": "python",
   "name": "python3"
  },
  "language_info": {
   "codemirror_mode": {
    "name": "ipython",
    "version": 3
   },
   "file_extension": ".py",
   "mimetype": "text/x-python",
   "name": "python",
   "nbconvert_exporter": "python",
   "pygments_lexer": "ipython3",
   "version": "3.10.18"
  }
 },
 "nbformat": 4,
 "nbformat_minor": 5
}
