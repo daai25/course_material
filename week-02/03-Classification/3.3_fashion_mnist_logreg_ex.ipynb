{
  "cells": [
    {
      "cell_type": "code",
      "execution_count": null,
      "metadata": {
        "id": "pAJRKdv9QA4C"
      },
      "outputs": [],
      "source": [
        "import numpy as np\n",
        "import pandas as pd\n",
        "from matplotlib import pyplot as plt\n",
        "\n",
        "from sklearn.model_selection import train_test_split\n",
        "\n",
        "import pandas as pd\n",
        "import numpy as np\n",
        "import matplotlib.pyplot as plt\n",
        "from random import randrange\n",
        "import seaborn as sns\n",
        "sns.set() # just the theme"
      ]
    },
    {
      "cell_type": "code",
      "execution_count": null,
      "metadata": {
        "id": "D1m4qcrpXdTt"
      },
      "outputs": [],
      "source": [
        "RANDOM_SEED = 0x0"
      ]
    },
    {
      "cell_type": "markdown",
      "metadata": {
        "id": "wSUV5eB-Hr4u"
      },
      "source": [
        "# Logistic regression on the fashion MNIST-dataset"
      ]
    },
    {
      "cell_type": "markdown",
      "metadata": {
        "id": "according-boating"
      },
      "source": [
        "## Data Exploration and Preprocessing\n",
        "\n",
        "We are using the Fashion MNIST Dataset from Zalando.\n",
        "Firstly, we load the dataset.\n",
        "\n"
      ]
    },
    {
      "cell_type": "code",
      "execution_count": null,
      "metadata": {
        "id": "wR0ijS0VZ6dk"
      },
      "outputs": [],
      "source": [
        "from keras.datasets import fashion_mnist\n",
        "(X_train_full, y_train_full), (X_test, y_test) = fashion_mnist.load_data()\n",
        "print(X_train_full.shape)\n",
        "print(y_train_full.shape)\n",
        "print(X_train_full.dtype)\n",
        "print(y_train_full.dtype)"
      ]
    },
    {
      "cell_type": "code",
      "execution_count": null,
      "metadata": {
        "id": "1fd78190-5445-4c53-9b7f-4a0f7aeaf87c"
      },
      "outputs": [],
      "source": [
        "label_names = ['T-shirt/top', 'Trouser', 'Pullover', 'Dress', 'Coat',\n",
        "               'Sandal', 'Shirt', 'Sneaker', 'Bag', 'Ankle boot']"
      ]
    },
    {
      "cell_type": "markdown",
      "metadata": {
        "id": "_9FX76IifOik"
      },
      "source": [
        "In following task we will only use training part of the dataset."
      ]
    },
    {
      "cell_type": "markdown",
      "metadata": {
        "id": "NPByThvGhhWU"
      },
      "source": [
        "#### Prepare data\n",
        "1. assign following datatypes to the arrays:\n",
        "   - X_train and X_test -> 'float32'\n",
        "   - y_train and y_test-> 'int64'\n",
        "2. reshape X_train and X_test to 2-dimensional arrays.\n",
        "Note:\n",
        "   - it should have the same amount of samples/rows.\n",
        "3. For hyperparameter tuning we need to chop of a validation set from the full training set: split the training data into (X_train, y_train) and (X_valid, y_valid), set the size of the validation dataset to 20% of the data and set random state = 42.\n",
        "4. Standardise the data"
      ]
    },
    {
      "cell_type": "code",
      "execution_count": null,
      "metadata": {
        "id": "c32c2f3e-0c8d-4287-bb74-9bd0315f18ce"
      },
      "outputs": [],
      "source": [
        "X_train_full = np.array(X_train_full, dtype = 'float32').reshape((60000, 28*28))\n",
        "y_train_full = np.array(y_train_full, dtype = 'int64')\n",
        "print(X_train_full.shape)\n",
        "print(y_train_full.shape)\n",
        "print(X_train_full.dtype)\n",
        "print(y_train_full.dtype)"
      ]
    },
    {
      "cell_type": "code",
      "source": [
        "X_test = ...\n",
        "y_test = ...\n"
      ],
      "metadata": {
        "id": "BFhrfON0ET1c"
      },
      "execution_count": null,
      "outputs": []
    },
    {
      "cell_type": "code",
      "source": [
        "from sklearn.model_selection import train_test_split"
      ],
      "metadata": {
        "id": "5GdOgVD9XYaI"
      },
      "execution_count": null,
      "outputs": []
    },
    {
      "cell_type": "code",
      "execution_count": null,
      "metadata": {
        "id": "d3b1f9ef-da3e-445e-b8b0-8adfa6871f14"
      },
      "outputs": [],
      "source": [
        "X_train, X_valid, y_train, y_valid = ..."
      ]
    },
    {
      "cell_type": "markdown",
      "metadata": {
        "id": "26YTJ4uQYE46"
      },
      "source": [
        "#### Visualize some data\n",
        "Plot 25 images (hint: use ``imshow`` and ``subplots`` from matplotlib library), plot the label as title (e.g. shorts)."
      ]
    },
    {
      "cell_type": "code",
      "execution_count": null,
      "metadata": {
        "id": "1ee386c1-8502-4422-8a1c-8c852e67ac40"
      },
      "outputs": [],
      "source": [
        "plt.figure(figsize=(10,10))\n",
        "for i in range(25):\n",
        "    plt.subplot(5,5,i+1)\n",
        "    plt.xticks([]) # empty x-ticks\n",
        "    plt.yticks([]) # empty y-ticks\n",
        "    plt.grid(False)\n",
        "    plt.imshow(X_train[i].reshape(28,28))\n",
        "    plt.xlabel(label_names[y_train[i]])\n",
        "plt.show()"
      ]
    },
    {
      "cell_type": "markdown",
      "metadata": {
        "id": "b61c7d24-8e54-4827-a15f-b0ae553d5743"
      },
      "source": [
        "#### Standardise the data"
      ]
    },
    {
      "cell_type": "code",
      "execution_count": null,
      "metadata": {
        "id": "cdf0d1e7-0466-4a49-a349-6b27a9aa3662"
      },
      "outputs": [],
      "source": [
        "mean, std = np.mean(X_train), np.std(X_train)\n",
        "\n",
        "X_train = (X_train - mean) / std\n",
        "X_valid = (X_valid - mean) / std\n",
        "X_test = (X_test - mean) / std"
      ]
    },
    {
      "cell_type": "markdown",
      "metadata": {
        "id": "j8PbfyymH7Vs"
      },
      "source": [
        "## Modelling\n",
        "Fit the `LogisticRegression` from `scikit-learn` on `X_train` and `y_train`. Set the `random_state=0` for reproducibility."
      ]
    },
    {
      "cell_type": "markdown",
      "metadata": {
        "id": "Qo4mH-oNCbz7"
      },
      "source": [
        "Optional: You can try different parameters for the logistic regression models either by hand or using GridSearchCV: https://scikit-learn.org/stable/modules/generated/sklearn.model_selection.GridSearchCV.html\n",
        "\n",
        "PredefinedSplit: https://scikit-learn.org/stable/modules/generated/sklearn.model_selection.PredefinedSplit.html\n",
        "\n",
        "You can ignore a warning \"STOP: TOTAL NO. of ITERATIONS REACHED LIMIT.\""
      ]
    },
    {
      "cell_type": "code",
      "source": [
        "from sklearn.linear_model import LogisticRegression\n",
        "from sklearn.metrics import accuracy_score"
      ],
      "metadata": {
        "id": "SBBpAvuBFPGm"
      },
      "execution_count": null,
      "outputs": []
    },
    {
      "cell_type": "code",
      "source": [
        "clf = LogisticRegression ..."
      ],
      "metadata": {
        "id": "79WqFJ7kFkn-"
      },
      "execution_count": null,
      "outputs": []
    },
    {
      "cell_type": "markdown",
      "source": [
        "Compute the `accuracy_score` on the validation set:"
      ],
      "metadata": {
        "id": "iu3WJIJpYorh"
      }
    },
    {
      "cell_type": "code",
      "source": [
        "y_hat_valid = clf.predict ...\n",
        "\n",
        "accuracy = accuracy_score ...\n",
        "print(f\"Accuracy on validation set: {accuracy}\")"
      ],
      "metadata": {
        "id": "Riset0ERGQPz"
      },
      "execution_count": null,
      "outputs": []
    },
    {
      "cell_type": "code",
      "source": [],
      "metadata": {
        "id": "V9c_3preY_99"
      },
      "execution_count": null,
      "outputs": []
    },
    {
      "cell_type": "markdown",
      "metadata": {
        "id": "n50x6mWLCbz9"
      },
      "source": [
        "Use the best found parameters for the next steps. If you have used `GridSearchCV` they are provided in the `best_params_` attribute."
      ]
    },
    {
      "cell_type": "markdown",
      "metadata": {
        "id": "BR1mLeucCbz9"
      },
      "source": [
        "3. Create a new `LogisticRegression` instance with the best found parameters.\n",
        "4. Fit it on the full training set.\n",
        "5. On the independent test set:\n",
        "  * calculate the accuracy\n",
        "  * generate the scikit-learn classification report\n",
        "  * display the confusion matrix"
      ]
    },
    {
      "cell_type": "code",
      "execution_count": null,
      "metadata": {
        "id": "P5XDHjQQTPXa"
      },
      "outputs": [],
      "source": [
        "clf = LogisticRegression(random_state=0, max_iter=100) # (**opt.best_params_,)\n",
        "clf.fit(X_train_full, y_train_full)\n",
        "y_hat_test = clf.predict(X_test)"
      ]
    },
    {
      "cell_type": "code",
      "source": [
        "accuracy = accuracy_score ...\n",
        "\n",
        "print(f\"Accuracy on test set: {accuracy}\")"
      ],
      "metadata": {
        "id": "JG_UO-fzWQgk"
      },
      "execution_count": null,
      "outputs": []
    },
    {
      "cell_type": "code",
      "source": [
        "from sklearn.metrics import confusion_matrix\n",
        "from sklearn.metrics import ConfusionMatrixDisplay\n",
        "from sklearn.metrics import classification_report"
      ],
      "metadata": {
        "id": "GaUZ63HULbvP"
      },
      "execution_count": null,
      "outputs": []
    },
    {
      "cell_type": "code",
      "source": [
        "print(classification_report(...))"
      ],
      "metadata": {
        "id": "kDoa-a_tK4ub"
      },
      "execution_count": null,
      "outputs": []
    },
    {
      "cell_type": "code",
      "source": [
        "cm = confusion_matrix(...)\n",
        "disp = ConfusionMatrixDisplay(confusion_matrix=cm, display_labels=label_names)\n",
        "\n",
        "disp.plot()\n",
        "\n",
        "plt.tick_params(axis=u'both', which=u'both',length=0)\n",
        "plt.tick_params(axis='x', labelrotation=60)\n",
        "plt.grid(False)\n",
        "\n",
        "plt.show()"
      ],
      "metadata": {
        "id": "M0Ozy1MAK44-"
      },
      "execution_count": null,
      "outputs": []
    },
    {
      "cell_type": "code",
      "source": [],
      "metadata": {
        "id": "gN05ss9cMj8Y"
      },
      "execution_count": null,
      "outputs": []
    }
  ],
  "metadata": {
    "colab": {
      "provenance": []
    },
    "kernelspec": {
      "display_name": "Python 3 (ipykernel)",
      "language": "python",
      "name": "python3"
    },
    "language_info": {
      "codemirror_mode": {
        "name": "ipython",
        "version": 3
      },
      "file_extension": ".py",
      "mimetype": "text/x-python",
      "name": "python",
      "nbconvert_exporter": "python",
      "pygments_lexer": "ipython3",
      "version": "3.8.16"
    }
  },
  "nbformat": 4,
  "nbformat_minor": 0
}