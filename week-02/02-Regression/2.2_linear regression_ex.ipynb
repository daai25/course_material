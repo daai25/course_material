{
 "cells": [
  {
   "cell_type": "code",
   "execution_count": 1,
   "id": "62f6328b-578b-4722-8e4a-587b6de3bb0f",
   "metadata": {},
   "outputs": [],
   "source": [
    "import numpy as np\n",
    "import pandas as pd\n",
    "from matplotlib import pyplot as plt\n",
    "\n",
    "from sklearn import model_selection \n",
    "from sklearn import neighbors"
   ]
  },
  {
   "cell_type": "code",
   "execution_count": 2,
   "id": "f55c09f6-cf5c-47d1-b776-d58ba1f79050",
   "metadata": {},
   "outputs": [],
   "source": [
    "RANDOM_SEED = 0x0"
   ]
  },
  {
   "cell_type": "raw",
   "id": "274e074e-bc9f-47b7-8b44-c754818451b5",
   "metadata": {},
   "source": [
    "Read the diabetes data into a dataframe:"
   ]
  },
  {
   "cell_type": "code",
   "execution_count": 3,
   "id": "13332a8f-6d0c-4259-a9a0-c49fcb0beb5d",
   "metadata": {},
   "outputs": [
    {
     "data": {
      "application/vnd.microsoft.datawrangler.viewer.v0+json": {
       "columns": [
        {
         "name": "index",
         "rawType": "int64",
         "type": "integer"
        },
        {
         "name": "age",
         "rawType": "int64",
         "type": "integer"
        },
        {
         "name": "sex",
         "rawType": "int64",
         "type": "integer"
        },
        {
         "name": "bmi",
         "rawType": "float64",
         "type": "float"
        },
        {
         "name": "bp",
         "rawType": "float64",
         "type": "float"
        },
        {
         "name": "tc",
         "rawType": "int64",
         "type": "integer"
        },
        {
         "name": "ldl",
         "rawType": "float64",
         "type": "float"
        },
        {
         "name": "hdl",
         "rawType": "int64",
         "type": "integer"
        },
        {
         "name": "tch",
         "rawType": "float64",
         "type": "float"
        },
        {
         "name": "ltg",
         "rawType": "float64",
         "type": "float"
        },
        {
         "name": "glu",
         "rawType": "int64",
         "type": "integer"
        },
        {
         "name": "prog",
         "rawType": "int64",
         "type": "integer"
        }
       ],
       "ref": "ac09a826-45e7-430a-8d5c-1ebcfa0046e6",
       "rows": [
        [
         "0",
         "36",
         "1",
         "27.8",
         "73.0",
         "153",
         "104.4",
         "42",
         "4.0",
         "3.4965",
         "73",
         "201"
        ],
        [
         "1",
         "48",
         "1",
         "22.8",
         "101.0",
         "110",
         "41.6",
         "56",
         "2.0",
         "4.1271",
         "97",
         "40"
        ],
        [
         "2",
         "56",
         "1",
         "35.0",
         "79.33",
         "195",
         "140.8",
         "42",
         "4.64",
         "4.1109",
         "96",
         "140"
        ],
        [
         "3",
         "66",
         "2",
         "34.6",
         "115.0",
         "204",
         "139.4",
         "36",
         "6.0",
         "4.9628",
         "109",
         "264"
        ],
        [
         "4",
         "49",
         "2",
         "25.9",
         "91.0",
         "178",
         "106.6",
         "52",
         "3.0",
         "4.5747",
         "75",
         "92"
        ],
        [
         "5",
         "71",
         "2",
         "26.1",
         "85.0",
         "220",
         "152.4",
         "47",
         "5.0",
         "4.6347",
         "91",
         "139"
        ],
        [
         "6",
         "41",
         "2",
         "25.7",
         "83.0",
         "181",
         "106.6",
         "66",
         "3.0",
         "3.7377",
         "85",
         "52"
        ],
        [
         "7",
         "33",
         "1",
         "19.5",
         "80.0",
         "171",
         "85.4",
         "75",
         "2.0",
         "3.9703",
         "80",
         "48"
        ],
        [
         "8",
         "28",
         "2",
         "19.2",
         "81.0",
         "155",
         "94.6",
         "51",
         "3.0",
         "3.8501",
         "87",
         "116"
        ],
        [
         "9",
         "46",
         "2",
         "42.2",
         "99.0",
         "211",
         "137.0",
         "44",
         "5.0",
         "5.0106",
         "99",
         "242"
        ],
        [
         "10",
         "44",
         "1",
         "21.5",
         "85.0",
         "157",
         "92.2",
         "55",
         "3.0",
         "3.8918",
         "84",
         "181"
        ],
        [
         "11",
         "58",
         "2",
         "23.6",
         "96.0",
         "257",
         "171.0",
         "59",
         "4.0",
         "4.9053",
         "82",
         "69"
        ],
        [
         "12",
         "28",
         "2",
         "25.5",
         "99.0",
         "162",
         "101.6",
         "46",
         "4.0",
         "4.2767",
         "94",
         "60"
        ],
        [
         "13",
         "42",
         "1",
         "24.9",
         "91.0",
         "204",
         "141.8",
         "38",
         "5.0",
         "4.7958",
         "89",
         "151"
        ],
        [
         "14",
         "64",
         "1",
         "21.0",
         "92.33",
         "227",
         "146.8",
         "65",
         "3.49",
         "4.3307",
         "102",
         "158"
        ],
        [
         "15",
         "34",
         "1",
         "33.0",
         "73.0",
         "178",
         "114.6",
         "51",
         "3.49",
         "4.1271",
         "92",
         "55"
        ],
        [
         "16",
         "32",
         "1",
         "26.5",
         "86.0",
         "184",
         "101.6",
         "53",
         "4.0",
         "4.9904",
         "78",
         "258"
        ],
        [
         "17",
         "60",
         "2",
         "27.5",
         "106.0",
         "229",
         "143.8",
         "51",
         "4.0",
         "5.1417",
         "91",
         "235"
        ],
        [
         "18",
         "19",
         "1",
         "23.2",
         "75.0",
         "143",
         "70.4",
         "52",
         "3.0",
         "4.6347",
         "72",
         "140"
        ],
        [
         "19",
         "40",
         "2",
         "31.9",
         "95.0",
         "198",
         "135.6",
         "38",
         "5.0",
         "4.804",
         "93",
         "178"
        ],
        [
         "20",
         "42",
         "1",
         "22.1",
         "85.0",
         "213",
         "138.6",
         "60",
         "4.0",
         "4.2767",
         "94",
         "72"
        ],
        [
         "21",
         "53",
         "1",
         "24.1",
         "105.0",
         "184",
         "113.4",
         "46",
         "4.0",
         "4.8122",
         "95",
         "66"
        ],
        [
         "22",
         "29",
         "2",
         "19.4",
         "83.0",
         "152",
         "105.8",
         "39",
         "4.0",
         "3.5835",
         "83",
         "55"
        ],
        [
         "23",
         "28",
         "1",
         "30.4",
         "85.0",
         "198",
         "115.6",
         "67",
         "3.0",
         "4.3438",
         "80",
         "103"
        ],
        [
         "24",
         "53",
         "1",
         "22.2",
         "78.0",
         "164",
         "81.0",
         "70",
         "2.0",
         "4.1744",
         "101",
         "93"
        ],
        [
         "25",
         "33",
         "2",
         "25.4",
         "102.0",
         "206",
         "141.0",
         "39",
         "5.0",
         "4.8675",
         "105",
         "179"
        ],
        [
         "26",
         "25",
         "2",
         "22.6",
         "85.0",
         "130",
         "71.0",
         "48",
         "3.0",
         "4.0073",
         "81",
         "71"
        ],
        [
         "27",
         "60",
         "2",
         "32.1",
         "83.0",
         "179",
         "119.4",
         "42",
         "4.0",
         "4.4773",
         "94",
         "110"
        ],
        [
         "28",
         "54",
         "1",
         "22.6",
         "90.0",
         "183",
         "104.2",
         "64",
         "3.0",
         "4.3041",
         "92",
         "72"
        ],
        [
         "29",
         "30",
         "1",
         "20.9",
         "104.0",
         "152",
         "83.8",
         "47",
         "3.0",
         "4.6634",
         "97",
         "86"
        ],
        [
         "30",
         "36",
         "1",
         "21.9",
         "89.0",
         "189",
         "105.2",
         "68",
         "3.0",
         "4.3694",
         "96",
         "111"
        ],
        [
         "31",
         "43",
         "1",
         "34.3",
         "84.0",
         "256",
         "172.6",
         "33",
         "8.0",
         "5.5294",
         "104",
         "306"
        ],
        [
         "32",
         "34",
         "2",
         "24.7",
         "118.0",
         "254",
         "184.2",
         "39",
         "7.0",
         "5.037",
         "81",
         "171"
        ],
        [
         "33",
         "67",
         "2",
         "24.0",
         "83.0",
         "143",
         "77.2",
         "49",
         "3.0",
         "4.4308",
         "94",
         "71"
        ],
        [
         "34",
         "61",
         "2",
         "26.1",
         "126.0",
         "215",
         "129.8",
         "57",
         "4.0",
         "4.9488",
         "96",
         "217"
        ],
        [
         "35",
         "43",
         "1",
         "22.1",
         "66.0",
         "134",
         "77.2",
         "45",
         "3.0",
         "4.0775",
         "80",
         "74"
        ],
        [
         "36",
         "43",
         "1",
         "26.8",
         "123.0",
         "193",
         "102.2",
         "67",
         "3.0",
         "4.7791",
         "94",
         "48"
        ],
        [
         "37",
         "49",
         "1",
         "19.8",
         "88.0",
         "188",
         "114.8",
         "57",
         "3.0",
         "4.3944",
         "93",
         "49"
        ],
        [
         "38",
         "60",
         "2",
         "23.4",
         "88.0",
         "153",
         "89.8",
         "58",
         "3.0",
         "3.2581",
         "95",
         "104"
        ],
        [
         "39",
         "45",
         "1",
         "20.3",
         "74.33",
         "190",
         "126.2",
         "49",
         "3.88",
         "4.3041",
         "79",
         "96"
        ],
        [
         "40",
         "59",
         "2",
         "25.1",
         "90.0",
         "163",
         "101.4",
         "46",
         "4.0",
         "4.3567",
         "91",
         "83"
        ],
        [
         "41",
         "51",
         "1",
         "24.1",
         "87.0",
         "261",
         "175.6",
         "69",
         "4.0",
         "4.4067",
         "93",
         "84"
        ],
        [
         "42",
         "37",
         "1",
         "30.2",
         "87.0",
         "166",
         "96.0",
         "40",
         "4.15",
         "5.0106",
         "87",
         "52"
        ],
        [
         "43",
         "36",
         "2",
         "24.1",
         "112.0",
         "193",
         "125.0",
         "35",
         "6.0",
         "5.1059",
         "95",
         "163"
        ],
        [
         "44",
         "57",
         "1",
         "21.7",
         "94.0",
         "157",
         "58.0",
         "82",
         "2.0",
         "4.4427",
         "92",
         "87"
        ],
        [
         "45",
         "34",
         "1",
         "31.4",
         "87.0",
         "149",
         "93.8",
         "46",
         "3.0",
         "3.8286",
         "77",
         "142"
        ],
        [
         "46",
         "67",
         "2",
         "23.0",
         "70.0",
         "184",
         "128.0",
         "35",
         "5.0",
         "4.654",
         "99",
         "102"
        ],
        [
         "47",
         "24",
         "1",
         "25.3",
         "84.0",
         "198",
         "131.4",
         "40",
         "5.0",
         "4.8903",
         "89",
         "206"
        ],
        [
         "48",
         "53",
         "2",
         "24.4",
         "92.0",
         "214",
         "146.0",
         "50",
         "4.0",
         "4.4998",
         "97",
         "107"
        ],
        [
         "49",
         "38",
         "2",
         "33.0",
         "78.0",
         "301",
         "215.0",
         "50",
         "6.02",
         "5.193",
         "108",
         "220"
        ]
       ],
       "shape": {
        "columns": 11,
        "rows": 441
       }
      },
      "text/html": [
       "<div>\n",
       "<style scoped>\n",
       "    .dataframe tbody tr th:only-of-type {\n",
       "        vertical-align: middle;\n",
       "    }\n",
       "\n",
       "    .dataframe tbody tr th {\n",
       "        vertical-align: top;\n",
       "    }\n",
       "\n",
       "    .dataframe thead th {\n",
       "        text-align: right;\n",
       "    }\n",
       "</style>\n",
       "<table border=\"1\" class=\"dataframe\">\n",
       "  <thead>\n",
       "    <tr style=\"text-align: right;\">\n",
       "      <th></th>\n",
       "      <th>age</th>\n",
       "      <th>sex</th>\n",
       "      <th>bmi</th>\n",
       "      <th>bp</th>\n",
       "      <th>tc</th>\n",
       "      <th>ldl</th>\n",
       "      <th>hdl</th>\n",
       "      <th>tch</th>\n",
       "      <th>ltg</th>\n",
       "      <th>glu</th>\n",
       "      <th>prog</th>\n",
       "    </tr>\n",
       "  </thead>\n",
       "  <tbody>\n",
       "    <tr>\n",
       "      <th>0</th>\n",
       "      <td>36</td>\n",
       "      <td>1</td>\n",
       "      <td>27.8</td>\n",
       "      <td>73.00</td>\n",
       "      <td>153</td>\n",
       "      <td>104.4</td>\n",
       "      <td>42</td>\n",
       "      <td>4.00</td>\n",
       "      <td>3.4965</td>\n",
       "      <td>73</td>\n",
       "      <td>201</td>\n",
       "    </tr>\n",
       "    <tr>\n",
       "      <th>1</th>\n",
       "      <td>48</td>\n",
       "      <td>1</td>\n",
       "      <td>22.8</td>\n",
       "      <td>101.00</td>\n",
       "      <td>110</td>\n",
       "      <td>41.6</td>\n",
       "      <td>56</td>\n",
       "      <td>2.00</td>\n",
       "      <td>4.1271</td>\n",
       "      <td>97</td>\n",
       "      <td>40</td>\n",
       "    </tr>\n",
       "    <tr>\n",
       "      <th>2</th>\n",
       "      <td>56</td>\n",
       "      <td>1</td>\n",
       "      <td>35.0</td>\n",
       "      <td>79.33</td>\n",
       "      <td>195</td>\n",
       "      <td>140.8</td>\n",
       "      <td>42</td>\n",
       "      <td>4.64</td>\n",
       "      <td>4.1109</td>\n",
       "      <td>96</td>\n",
       "      <td>140</td>\n",
       "    </tr>\n",
       "    <tr>\n",
       "      <th>3</th>\n",
       "      <td>66</td>\n",
       "      <td>2</td>\n",
       "      <td>34.6</td>\n",
       "      <td>115.00</td>\n",
       "      <td>204</td>\n",
       "      <td>139.4</td>\n",
       "      <td>36</td>\n",
       "      <td>6.00</td>\n",
       "      <td>4.9628</td>\n",
       "      <td>109</td>\n",
       "      <td>264</td>\n",
       "    </tr>\n",
       "    <tr>\n",
       "      <th>4</th>\n",
       "      <td>49</td>\n",
       "      <td>2</td>\n",
       "      <td>25.9</td>\n",
       "      <td>91.00</td>\n",
       "      <td>178</td>\n",
       "      <td>106.6</td>\n",
       "      <td>52</td>\n",
       "      <td>3.00</td>\n",
       "      <td>4.5747</td>\n",
       "      <td>75</td>\n",
       "      <td>92</td>\n",
       "    </tr>\n",
       "    <tr>\n",
       "      <th>...</th>\n",
       "      <td>...</td>\n",
       "      <td>...</td>\n",
       "      <td>...</td>\n",
       "      <td>...</td>\n",
       "      <td>...</td>\n",
       "      <td>...</td>\n",
       "      <td>...</td>\n",
       "      <td>...</td>\n",
       "      <td>...</td>\n",
       "      <td>...</td>\n",
       "      <td>...</td>\n",
       "    </tr>\n",
       "    <tr>\n",
       "      <th>436</th>\n",
       "      <td>59</td>\n",
       "      <td>2</td>\n",
       "      <td>26.9</td>\n",
       "      <td>104.00</td>\n",
       "      <td>194</td>\n",
       "      <td>126.6</td>\n",
       "      <td>43</td>\n",
       "      <td>5.00</td>\n",
       "      <td>4.8040</td>\n",
       "      <td>106</td>\n",
       "      <td>311</td>\n",
       "    </tr>\n",
       "    <tr>\n",
       "      <th>437</th>\n",
       "      <td>48</td>\n",
       "      <td>1</td>\n",
       "      <td>20.4</td>\n",
       "      <td>98.00</td>\n",
       "      <td>209</td>\n",
       "      <td>139.4</td>\n",
       "      <td>46</td>\n",
       "      <td>5.00</td>\n",
       "      <td>4.7707</td>\n",
       "      <td>78</td>\n",
       "      <td>83</td>\n",
       "    </tr>\n",
       "    <tr>\n",
       "      <th>438</th>\n",
       "      <td>57</td>\n",
       "      <td>1</td>\n",
       "      <td>26.9</td>\n",
       "      <td>98.00</td>\n",
       "      <td>246</td>\n",
       "      <td>165.2</td>\n",
       "      <td>38</td>\n",
       "      <td>7.00</td>\n",
       "      <td>5.3660</td>\n",
       "      <td>96</td>\n",
       "      <td>249</td>\n",
       "    </tr>\n",
       "    <tr>\n",
       "      <th>439</th>\n",
       "      <td>33</td>\n",
       "      <td>1</td>\n",
       "      <td>18.9</td>\n",
       "      <td>70.00</td>\n",
       "      <td>162</td>\n",
       "      <td>91.8</td>\n",
       "      <td>59</td>\n",
       "      <td>3.00</td>\n",
       "      <td>4.0254</td>\n",
       "      <td>58</td>\n",
       "      <td>72</td>\n",
       "    </tr>\n",
       "    <tr>\n",
       "      <th>440</th>\n",
       "      <td>68</td>\n",
       "      <td>2</td>\n",
       "      <td>25.7</td>\n",
       "      <td>109.00</td>\n",
       "      <td>233</td>\n",
       "      <td>112.6</td>\n",
       "      <td>35</td>\n",
       "      <td>7.00</td>\n",
       "      <td>6.0568</td>\n",
       "      <td>105</td>\n",
       "      <td>248</td>\n",
       "    </tr>\n",
       "  </tbody>\n",
       "</table>\n",
       "<p>441 rows × 11 columns</p>\n",
       "</div>"
      ],
      "text/plain": [
       "     age  sex   bmi      bp   tc    ldl  hdl   tch     ltg  glu  prog\n",
       "0     36    1  27.8   73.00  153  104.4   42  4.00  3.4965   73   201\n",
       "1     48    1  22.8  101.00  110   41.6   56  2.00  4.1271   97    40\n",
       "2     56    1  35.0   79.33  195  140.8   42  4.64  4.1109   96   140\n",
       "3     66    2  34.6  115.00  204  139.4   36  6.00  4.9628  109   264\n",
       "4     49    2  25.9   91.00  178  106.6   52  3.00  4.5747   75    92\n",
       "..   ...  ...   ...     ...  ...    ...  ...   ...     ...  ...   ...\n",
       "436   59    2  26.9  104.00  194  126.6   43  5.00  4.8040  106   311\n",
       "437   48    1  20.4   98.00  209  139.4   46  5.00  4.7707   78    83\n",
       "438   57    1  26.9   98.00  246  165.2   38  7.00  5.3660   96   249\n",
       "439   33    1  18.9   70.00  162   91.8   59  3.00  4.0254   58    72\n",
       "440   68    2  25.7  109.00  233  112.6   35  7.00  6.0568  105   248\n",
       "\n",
       "[441 rows x 11 columns]"
      ]
     },
     "execution_count": 3,
     "metadata": {},
     "output_type": "execute_result"
    }
   ],
   "source": [
    "df = pd.read_csv('data/diabetes.csv', delimiter=';')\n",
    "df"
   ]
  },
  {
   "cell_type": "markdown",
   "id": "31de4680-dc69-408f-aea7-e9c15ff8728c",
   "metadata": {},
   "source": [
    "## Univariate regression\n",
    "1 independent variable: 'bmi'"
   ]
  },
  {
   "cell_type": "code",
   "execution_count": 4,
   "id": "d9b668ed-48b5-4ebb-ac00-d31ac0a73b6f",
   "metadata": {},
   "outputs": [],
   "source": [
    "X = df['bmi'].to_numpy().reshape(-1, 1)\n",
    "y = df['prog'].to_numpy()"
   ]
  },
  {
   "cell_type": "markdown",
   "id": "0419e9ff-d7b5-4ca8-9e80-9315050bf5f2",
   "metadata": {},
   "source": [
    "1. Split the data in the train and test set (80/20), set random_state to RANDOM_SEED."
   ]
  },
  {
   "cell_type": "code",
   "execution_count": 5,
   "id": "b3b06024-d284-4339-bc83-f848ae066b5b",
   "metadata": {},
   "outputs": [],
   "source": [
    "X_train, X_test, y_train, y_test = model_selection.train_test_split(X, y, test_size=0.2, \n",
    "                                                                    random_state=RANDOM_SEED)"
   ]
  },
  {
   "cell_type": "markdown",
   "id": "9c170036-e8f7-4b6a-b46e-5e9d0c33b341",
   "metadata": {},
   "source": [
    "### Nearest neighbor regression\n",
    "Apply nearest neighbor egression on the data and predict y values for the training and test data"
   ]
  },
  {
   "cell_type": "code",
   "execution_count": 6,
   "id": "62c2ca1b-c901-42d6-a4ef-933b6c4f8076",
   "metadata": {},
   "outputs": [],
   "source": [
    "knn = neighbors.KNeighborsRegressor(n_neighbors=5, weights='uniform')\n",
    "knn.fit(X_train, y_train)\n",
    "y_hat_train= knn.predict(X_train)\n",
    "y_hat_test = knn.predict(X_test)"
   ]
  },
  {
   "cell_type": "markdown",
   "id": "4b7f1520-8d71-40cc-a9ed-4be950060780",
   "metadata": {},
   "source": [
    "Calculate MSE for training as well as for test data."
   ]
  },
  {
   "cell_type": "code",
   "execution_count": 7,
   "id": "0dc088ea-52e9-4f63-a997-05cf148b67f8",
   "metadata": {},
   "outputs": [],
   "source": [
    "from sklearn.metrics import mean_squared_error"
   ]
  },
  {
   "cell_type": "code",
   "execution_count": 8,
   "id": "0c920dda-2c0c-40f3-b0a9-8df7a0f9fbb9",
   "metadata": {},
   "outputs": [
    {
     "name": "stdout",
     "output_type": "stream",
     "text": [
      "RMSD of training data: 54.42\n",
      "RMSD of test data: 70.77\n"
     ]
    }
   ],
   "source": [
    "rmsd_train = np.sqrt(mean_squared_error(y_train, y_hat_train))\n",
    "rmsd_test = np.sqrt(mean_squared_error(y_test, y_hat_test))\n",
    "\n",
    "print(f\"RMSD of training data: {rmsd_train:.2f}\")\n",
    "print(f\"RMSD of test data: {rmsd_test:.2f}\")"
   ]
  },
  {
   "cell_type": "markdown",
   "id": "3b52606b-772b-4c63-a6f0-ea3ec87da710",
   "metadata": {},
   "source": [
    "Visualize the model's artefacts: Plot all the data as well as Linear Regression predictions for training and test data in a scatter plot. Don't forget a legend to differentiate the data."
   ]
  },
  {
   "cell_type": "code",
   "execution_count": 9,
   "id": "5df8abc5-223f-4932-b626-d72b44a3f874",
   "metadata": {},
   "outputs": [
    {
     "data": {
      "image/png": "[encoded data removed]",
      "text/plain": [
       "<Figure size 640x480 with 1 Axes>"
      ]
     },
     "metadata": {},
     "output_type": "display_data"
    }
   ],
   "source": [
    "plt.figure()\n",
    "plt.scatter(X[:,0], y, s=10, label='Data')\n",
    "plt.scatter(X_train, y_hat_train, color='r', s=10, label='Train')\n",
    "plt.scatter(X_test, y_hat_test, color='g', s=10, label='Test')\n",
    "plt.title('K nearest neighbors k='+str(knn.n_neighbors))\n",
    "plt.xlabel('BMI')\n",
    "plt.ylabel('Progression')\n",
    "plt.legend()\n",
    "plt.show()"
   ]
  },
  {
   "cell_type": "markdown",
   "id": "d01c9c5d-4e2f-46e8-ac6f-29d53f52adf6",
   "metadata": {},
   "source": [
    "**Task**: Investigate how the training and test RMSD behave for varying values for the hyperparameter $k$"
   ]
  },
  {
   "cell_type": "code",
   "execution_count": 10,
   "id": "067379d2-d7b3-4b4c-aac4-a4830a8f0c53",
   "metadata": {},
   "outputs": [],
   "source": [
    "rmsds_train = []\n",
    "rmsds_test = []\n",
    "for k in [1,5,20,50,10]:\n",
    "    ..."
   ]
  },
  {
   "cell_type": "code",
   "execution_count": null,
   "id": "52468ee1-ec27-48f8-8269-cd4d7cc9d672",
   "metadata": {},
   "outputs": [],
   "source": []
  },
  {
   "cell_type": "markdown",
   "id": "f277c5f1-f3b6-4236-ab0c-3c2576b4c6c0",
   "metadata": {},
   "source": [
    "### Linear regression\n",
    "Changing the model is very simple in scikit-learn:"
   ]
  },
  {
   "cell_type": "code",
   "execution_count": 10,
   "id": "15d7a9a5-2ddc-42c4-8f7f-f03b50ee9a2c",
   "metadata": {},
   "outputs": [],
   "source": [
    "from sklearn import linear_model"
   ]
  },
  {
   "cell_type": "code",
   "execution_count": 11,
   "id": "a93dcf03-e0be-48c3-b8c0-60b4de73b0b0",
   "metadata": {},
   "outputs": [],
   "source": [
    "lin1 = linear_model.LinearRegression()\n",
    "lin1.fit(X_train, y_train)\n",
    "\n",
    "y_hat_train= lin1.predict(X_train)\n",
    "y_hat_test = lin1.predict(X_test)"
   ]
  },
  {
   "cell_type": "code",
   "execution_count": 12,
   "id": "c9f7c124-d0d4-4dc1-8b58-c70f0474cde1",
   "metadata": {},
   "outputs": [
    {
     "name": "stdout",
     "output_type": "stream",
     "text": [
      "RMSD of training data: 61.23\n",
      "RMSD of test data: 66.82\n"
     ]
    }
   ],
   "source": [
    "rmsd_train = np.sqrt(mean_squared_error(y_train, y_hat_train))\n",
    "rmsd_test = np.sqrt(mean_squared_error(y_test, y_hat_test))\n",
    "\n",
    "print(f\"RMSD of training data: {rmsd_train:.2f}\")\n",
    "print(f\"RMSD of test data: {rmsd_test:.2f}\")"
   ]
  },
  {
   "cell_type": "code",
   "execution_count": 13,
   "id": "6c88fdea-fdce-4797-934a-7aa820e8cccc",
   "metadata": {},
   "outputs": [
    {
     "data": {
      "image/png": "[encoded data removed]",
      "text/plain": [
       "<Figure size 640x480 with 1 Axes>"
      ]
     },
     "metadata": {},
     "output_type": "display_data"
    }
   ],
   "source": [
    "plt.figure()\n",
    "plt.scatter(X[:,0], y, s=10, label='Data')\n",
    "plt.scatter(X_train, y_hat_train, color='r', s=10, label='Train')\n",
    "plt.scatter(X_test, y_hat_test, color='g', s=10, label='Test')\n",
    "plt.title('Linear regression')\n",
    "plt.xlabel('BMI')\n",
    "plt.ylabel('Progression')\n",
    "plt.legend()\n",
    "plt.show()"
   ]
  },
  {
   "cell_type": "code",
   "execution_count": null,
   "id": "2a5c4d3c-1a19-49ac-82c3-7d4c44d2fc01",
   "metadata": {},
   "outputs": [],
   "source": []
  },
  {
   "cell_type": "code",
   "execution_count": null,
   "id": "d8c38490-1945-42f5-a467-1455862d20ee",
   "metadata": {},
   "outputs": [],
   "source": []
  },
  {
   "cell_type": "markdown",
   "id": "03f27da8-6243-4776-9693-8c6e442953fb",
   "metadata": {},
   "source": [
    "### Polynomial regression"
   ]
  },
  {
   "cell_type": "code",
   "execution_count": 14,
   "id": "9100e0b9-2b6f-46af-a3e8-fa593ed10848",
   "metadata": {},
   "outputs": [],
   "source": [
    "from sklearn.preprocessing import PolynomialFeatures"
   ]
  },
  {
   "cell_type": "markdown",
   "id": "c432fca9-eb05-4752-89e8-99c90aa879d2",
   "metadata": {},
   "source": [
    "Investigate how well polynomial regression with polynomial degrees = 2 can solve the task. In order to do so, follow these steps:\n",
    "1. Transform the training and test data accordingly to describe polynomial distribution of degree=2\n",
    "2. Train a Linear Regression model on polynomial data\n",
    "3. Make predictions for training data\n",
    "4. Make predictions for test data\n",
    "5. Calculate MSE for training as well as test data"
   ]
  },
  {
   "cell_type": "code",
   "execution_count": 15,
   "id": "f79f9ecc-8bac-4dfc-8836-ca70da0c3d6a",
   "metadata": {},
   "outputs": [],
   "source": [
    "def poly_regression(X_train, y_train, X_test, y_test, degree):\n",
    "    polynomial_features= PolynomialFeatures(degree=degree)\n",
    "    x_train_poly = polynomial_features.fit_transform(X_train)\n",
    "    x_test_poly = polynomial_features.fit_transform(X_test)\n",
    "\n",
    "    model = linear_model.LinearRegression()\n",
    "    model.fit(x_train_poly, y_train)\n",
    "\n",
    "    y_hat_train_poly = model.predict(x_train_poly)\n",
    "    y_hat_test_poly = model.predict(x_test_poly)\n",
    "\n",
    "    rmsd_train_poly = np.sqrt(mean_squared_error(y_train, y_hat_train_poly))\n",
    "    rmsd_test_poly = np.sqrt(mean_squared_error(y_test, y_hat_test_poly))\n",
    "\n",
    "    return y_hat_train_poly, y_hat_test_poly, rmsd_train_poly, rmsd_test_poly"
   ]
  },
  {
   "cell_type": "code",
   "execution_count": 16,
   "id": "91f8b6ca-20f4-4b8e-abca-660c94428931",
   "metadata": {},
   "outputs": [
    {
     "name": "stdout",
     "output_type": "stream",
     "text": [
      "RMSD of training data: 77.41\n",
      "RMSD of test data: 75.05\n"
     ]
    }
   ],
   "source": [
    "y_hat_train_poly, y_hat_test_poly, rmsd_train_poly, rmsd_test_poly = poly_regression(X_train, y_train, X_test, y_test, degree=0)\n",
    "print(f\"RMSD of training data: {rmsd_train_poly:.2f}\")\n",
    "print(f\"RMSD of test data: {rmsd_test_poly:.2f}\")"
   ]
  },
  {
   "cell_type": "markdown",
   "id": "d385e122-fc07-457c-a86e-0e02eadb5db1",
   "metadata": {},
   "source": [
    "**Task**: Investigate the influence of polynomial degrees on the results. Consider degrees in `range(0, 11)`. Plot the RMSD (on training as well as test data) as a function of the number of the polynomial degrees. \n",
    "\n",
    "Do the polynomial features bring a benefit?"
   ]
  },
  {
   "cell_type": "code",
   "execution_count": 37,
   "id": "41bb1639-56b1-46b9-a9ed-84c03766c3fa",
   "metadata": {},
   "outputs": [],
   "source": [
    "rmsds_train = []\n",
    "rmsds_test = []\n",
    "for degree in range(0, 11):\n",
    "    ..."
   ]
  },
  {
   "cell_type": "code",
   "execution_count": null,
   "id": "fb75dea1-9be8-4ef6-b234-90f3f0c9b956",
   "metadata": {},
   "outputs": [],
   "source": []
  },
  {
   "cell_type": "code",
   "execution_count": null,
   "id": "e8e5eedd-83c5-4f01-80e4-c771d1b1d945",
   "metadata": {},
   "outputs": [],
   "source": []
  },
  {
   "cell_type": "markdown",
   "id": "460d3ff8-c692-4cac-922a-b7df04f83ed2",
   "metadata": {},
   "source": [
    "## Multivariate regression\n",
    "Considering all available features"
   ]
  },
  {
   "cell_type": "code",
   "execution_count": 17,
   "id": "b2d77d78-e225-467b-a5ae-1b387327431d",
   "metadata": {},
   "outputs": [],
   "source": [
    "X = df.loc[:, df.columns != 'prog'].to_numpy()\n",
    "y = df['prog'].to_numpy()"
   ]
  },
  {
   "cell_type": "markdown",
   "id": "dcaf1bf1-84dc-4a9c-8e29-393a692924fe",
   "metadata": {},
   "source": [
    "Split the data in the train and test set (80/20), set random_state to RANDOM_SEED."
   ]
  },
  {
   "cell_type": "code",
   "execution_count": 18,
   "id": "ca45bf1f-7c5e-451e-a6f0-8472a18450a4",
   "metadata": {},
   "outputs": [],
   "source": [
    "X_train, X_test, y_train, y_test = model_selection.train_test_split(X, y, test_size=0.2, \n",
    "                                                                    random_state=RANDOM_SEED)"
   ]
  },
  {
   "cell_type": "markdown",
   "id": "1e7805cc-7e5f-4dfd-9186-800b8890464e",
   "metadata": {},
   "source": [
    "**Task**: Train a linar regression model on the full set of features. Does it improve upon the univariate model?"
   ]
  },
  {
   "cell_type": "code",
   "execution_count": 46,
   "id": "42db7980-1deb-4d0c-a8c7-59e9dc2cea3a",
   "metadata": {},
   "outputs": [],
   "source": [
    "lin = ..."
   ]
  },
  {
   "cell_type": "code",
   "execution_count": null,
   "id": "eb69a486-8fc0-49ae-a843-9a5b88ef97f0",
   "metadata": {},
   "outputs": [],
   "source": []
  },
  {
   "cell_type": "code",
   "execution_count": null,
   "id": "0de762ca-edfd-460e-ac7f-9bdb99bcf404",
   "metadata": {},
   "outputs": [],
   "source": []
  }
 ],
 "metadata": {
  "kernelspec": {
   "display_name": "mlintro",
   "language": "python",
   "name": "python3"
  },
  "language_info": {
   "codemirror_mode": {
    "name": "ipython",
    "version": 3
   },
   "file_extension": ".py",
   "mimetype": "text/x-python",
   "name": "python",
   "nbconvert_exporter": "python",
   "pygments_lexer": "ipython3",
   "version": "3.10.18"
  }
 },
 "nbformat": 4,
 "nbformat_minor": 5
}
