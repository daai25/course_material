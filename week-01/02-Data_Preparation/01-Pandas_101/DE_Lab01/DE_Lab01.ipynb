{
 "cells": [
  {
   "cell_type": "markdown",
   "metadata": {},
   "source": [
    "# DSSS23 - Data Engineering: Lab 01\n",
    "---------------"
   ]
  },
  {
   "cell_type": "markdown",
   "metadata": {},
   "source": [
    "### Task 01: Setup\n",
    "This lab is for installing and setting up your machine for the labs and to refresh your Python and pandas knowledge.\n",
    "You can either run the notebooks on Google Colab or on your local machine."
   ]
  },
  {
   "cell_type": "markdown",
   "metadata": {},
   "source": [
    "##### a) Check your installed Python version. We need a version higher or equal Python 3.8."
   ]
  },
  {
   "cell_type": "code",
   "execution_count": 1,
   "metadata": {},
   "outputs": [
    {
     "name": "stdout",
     "output_type": "stream",
     "text": [
      "Done. Python >= 3.8 already installed.\n"
     ]
    }
   ],
   "source": [
    "import sys\n",
    "\n",
    "if sys.version_info >= (3, 8):\n",
    "    print(\"Done. Python >= 3.8 already installed.\")\n",
    "else:\n",
    "    print(\"Python >= 3.8 not installed. Please install a corresponding version.\")"
   ]
  },
  {
   "cell_type": "markdown",
   "metadata": {},
   "source": [
    "##### b) Check if you already have installed Pip. Pip is the package installer for Python, which we need in the following labs."
   ]
  },
  {
   "cell_type": "code",
   "execution_count": 2,
   "metadata": {},
   "outputs": [
    {
     "name": "stdout",
     "output_type": "stream",
     "text": [
      "Done. Pip already installed.\n"
     ]
    }
   ],
   "source": [
    "try:\n",
    "    import pip\n",
    "    print(\"Done. Pip already installed.\")\n",
    "except ImportError:\n",
    "    print(\"Pip not installed. Please install the newest version.\")"
   ]
  },
  {
   "cell_type": "markdown",
   "metadata": {},
   "source": [
    "#### c) Check if you already have installed Pandas. Pandas is the data analysis library, which we need in the following labs."
   ]
  },
  {
   "cell_type": "code",
   "execution_count": 3,
   "metadata": {},
   "outputs": [
    {
     "name": "stdout",
     "output_type": "stream",
     "text": [
      "Done. Pandas already installed.\n"
     ]
    }
   ],
   "source": [
    "try:\n",
    "    import pandas as pd\n",
    "    print(\"Done. Pandas already installed.\")\n",
    "except ImportError:\n",
    "    print(\"Pandas not installed. Please install the newest version.\")"
   ]
  },
  {
   "cell_type": "markdown",
   "metadata": {},
   "source": [
    "#### d) Print each character line by line for the sentence \"I am ready and super excited for the module Data Engineering of the Data Science Summer School 2023\"."
   ]
  },
  {
   "cell_type": "code",
   "execution_count": null,
   "metadata": {},
   "outputs": [],
   "source": []
  },
  {
   "cell_type": "markdown",
   "metadata": {},
   "source": [
    "### Task 02: Introduction into Python and Pandas\n",
    "Go through the two jupyter notebooks IntroductionToPython and IntroductionToPandas and check if everything is clear so far."
   ]
  }
 ],
 "metadata": {
  "kernelspec": {
   "display_name": "Python 3 (ipykernel)",
   "language": "python",
   "name": "python3"
  },
  "language_info": {
   "codemirror_mode": {
    "name": "ipython",
    "version": 3
   },
   "file_extension": ".py",
   "mimetype": "text/x-python",
   "name": "python",
   "nbconvert_exporter": "python",
   "pygments_lexer": "ipython3",
   "version": "3.10.11"
  }
 },
 "nbformat": 4,
 "nbformat_minor": 4
}
