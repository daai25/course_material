{
 "cells": [
  {
   "cell_type": "markdown",
   "metadata": {},
   "source": [
    "# DSSS23 - Data Engineering: Lab 04\n",
    "---------------"
   ]
  },
  {
   "cell_type": "markdown",
   "metadata": {
    "id": "6Ijg5wUCTQYG"
   },
   "source": [
    "## **The Dataset**\n",
    "\n",
    "The dataset to be used in this lab is a CSV file named `airbnb.csv`, which contains data on airbnb listings in the state of New York. It contains the following columns:\n",
    "\n",
    "- `listing_id`: The unique identifier for a listing\n",
    "- `description`: The description used on the listing\n",
    "- `host_id`: Unique identifier for a host\n",
    "- `host_name`: Name of host\n",
    "- `neighbourhood_full`: Name of boroughs and neighbourhoods\n",
    "- `coordinates`: Coordinates of listing _(latitude, longitude)_\n",
    "- `Listing added`: Date of added listing\n",
    "- `room_type`: Type of room \n",
    "- `rating`: Rating from 0 to 5.\n",
    "- `price`: Price per night for listing\n",
    "- `number_of_reviews`: Amount of reviews received \n",
    "- `last_review`: Date of last review\n",
    "- `reviews_per_month`: Number of reviews per month\n",
    "- `availability_365`: Number of days available per year\n",
    "- `Number of stays`: Total number of stays thus far\n"
   ]
  },
  {
   "cell_type": "markdown",
   "metadata": {
    "id": "BMYfcKeDY85K"
   },
   "source": [
    "## **Getting started**"
   ]
  },
  {
   "cell_type": "code",
   "execution_count": null,
   "metadata": {
    "id": "EMQfyC7GUNhT"
   },
   "outputs": [],
   "source": [
    "# Import libraries\n",
    "import pandas as pd\n",
    "import numpy as np\n",
    "import datetime as dt"
   ]
  },
  {
   "cell_type": "code",
   "execution_count": null,
   "metadata": {
    "id": "l8t_EwRNZPLB"
   },
   "outputs": [],
   "source": [
    "# Read in the dataset\n",
    "airbnb = pd.read_csv('DE1_Lab05_airbnb.csv', index_col = 'Unnamed: 0')"
   ]
  },
  {
   "cell_type": "markdown",
   "metadata": {
    "id": "1ui1uvtyZwfQ"
   },
   "source": [
    "## **Diagnosing data cleaning problems using simple `pandas`** "
   ]
  },
  {
   "cell_type": "markdown",
   "metadata": {
    "id": "t3fgtos4Z6Xa"
   },
   "source": [
    "Some important and common methods needed to get a better understanding of DataFrames and diagnose potential data problems are the following: \n",
    "\n",
    "- `.head()` prints the header of a DataFrame\n",
    "- `.dtypes` prints datatypes of all columns in a DataFrame\n",
    "- `.info()` provides a bird's eye view of column data types and missing values in a DataFrame\n",
    "- `.describe()` returns a distribution of numeric columns in your DataFrame\n",
    "- `.isna().sum()` allows us to break down the number of missing values per column in our DataFrame\n",
    "- `.unique()` finds the number of unique values in a DataFrame column"
   ]
  },
  {
   "cell_type": "markdown",
   "metadata": {
    "id": "WqwmfLp9lKjU"
   },
   "source": [
    "## **Our task list:**\n",
    "\n",
    "_Data type problems:_\n",
    "\n",
    "- **Task 1:** Split `coordinates` into 2 columns (`latitude` and `longitude`) and convert them to `float`.\n",
    "- **Task 2**: Remove `$` from `price` and convert it to `float`\n",
    "- **Task 3**: Convert `listing_added` and `last_review` to `datetime`\n",
    "\n",
    "<br>\n",
    "\n",
    "_Text/categorical data problems:_\n",
    "\n",
    "- **Task 4**: We need to collapse `room_type` into correct categories\n",
    "- **Task 5**: Divide `neighbourhood_full` into 2 columns and making sure they are clean\n",
    "\n",
    "<br>\n",
    "\n",
    "_Data range problems:_\n",
    "\n",
    "- **Task 6**: Make sure we set the correct maximum for `rating` column out of range values\n",
    "\n",
    "<br>\n",
    "\n",
    "_Dealing with date problems:_\n",
    "\n",
    "- **Task 7**: Check consitent date format in the date columns.\n",
    "\n",
    "<br>\n",
    "\n",
    "\n",
    "_Dealing with duplicate data:_\n",
    "\n",
    "- **Task 8**: Check for duplicate data."
   ]
  },
  {
   "cell_type": "markdown",
   "metadata": {
    "id": "8jp5m7QmnCsM"
   },
   "source": [
    "## **Tasks** "
   ]
  },
  {
   "cell_type": "markdown",
   "metadata": {
    "id": "3Ev1mCwXniDv"
   },
   "source": [
    "##### **Task 1:** Split `coordinates` into 2 columns (`latitude` and `longitude`) and convert them to `float`."
   ]
  },
  {
   "cell_type": "markdown",
   "metadata": {
    "id": "ijAlYOgglvzt"
   },
   "source": [
    "To perform this task, we will use the following methods:\n",
    "\n",
    "- `.str.replace(\"\",\"\")` replaces one string in each row of a column with another\n",
    "- `.str.split(\"\")` takes in a string and lets you split a column into two based on that string\n",
    "- `.astype()` lets you convert a column from one type to another"
   ]
  },
  {
   "cell_type": "code",
   "execution_count": null,
   "metadata": {
    "colab": {
     "base_uri": "https://localhost:8080/",
     "height": 119
    },
    "id": "UpIxvD_onOgt",
    "outputId": "bf3af853-768e-4358-e179-c0c334bdec5f"
   },
   "outputs": [],
   "source": [
    "# Remove \"(\" and \")\" from coordinates\n",
    "\n",
    "# Print the header of the column"
   ]
  },
  {
   "cell_type": "code",
   "execution_count": null,
   "metadata": {
    "colab": {
     "base_uri": "https://localhost:8080/",
     "height": 204
    },
    "id": "nvEKmdRun2Md",
    "outputId": "19d527b7-17d8-42eb-e8c1-c597ae1c29b9"
   },
   "outputs": [],
   "source": [
    "# Split column into two"
   ]
  },
  {
   "cell_type": "code",
   "execution_count": null,
   "metadata": {
    "colab": {
     "base_uri": "https://localhost:8080/",
     "height": 479
    },
    "id": "LezCKPzfn4yf",
    "outputId": "06eff294-308d-4aa7-a7e1-9be62ffaae73"
   },
   "outputs": [],
   "source": [
    "# Assign correct columns to latitude and longitude columns in airbnb\n",
    "\n",
    "# Print the header and confirm new column creation"
   ]
  },
  {
   "cell_type": "code",
   "execution_count": null,
   "metadata": {
    "colab": {
     "base_uri": "https://localhost:8080/",
     "height": 340
    },
    "id": "toTHDWjFosXs",
    "outputId": "22273a70-dda1-4134-e5e7-1f2a8ed724ac"
   },
   "outputs": [],
   "source": [
    "# Print out dtypes again"
   ]
  },
  {
   "cell_type": "code",
   "execution_count": null,
   "metadata": {
    "colab": {
     "base_uri": "https://localhost:8080/",
     "height": 340
    },
    "id": "8zDpaIqDoeNl",
    "outputId": "ead1ab19-04c5-4722-c181-eedddc64f057"
   },
   "outputs": [],
   "source": [
    "# Convert latitude and longitude to float\n",
    "\n",
    "# Print dtypes again"
   ]
  },
  {
   "cell_type": "code",
   "execution_count": null,
   "metadata": {
    "id": "aKZGhJQRo8mp"
   },
   "outputs": [],
   "source": [
    "# Drop coordinates column"
   ]
  },
  {
   "cell_type": "markdown",
   "metadata": {
    "id": "bkgGPHpdpMEW"
   },
   "source": [
    "##### **Task 2:** Remove `$` from `price` and convert it to `float`"
   ]
  },
  {
   "cell_type": "markdown",
   "metadata": {
    "id": "9jkKFojOmJy5"
   },
   "source": [
    "To perform this task, we will be using the following methods:\n",
    "\n",
    "- `.str.strip()` which removes a specified string from each row in a column\n",
    "- `.astype()`"
   ]
  },
  {
   "cell_type": "code",
   "execution_count": null,
   "metadata": {
    "colab": {
     "base_uri": "https://localhost:8080/",
     "height": 119
    },
    "id": "gHIB5d-1pdIO",
    "outputId": "8b332216-20e5-42a9-a070-b705d2ae84ae"
   },
   "outputs": [],
   "source": [
    "# Remove $ from price before conversion to float\n",
    "\n",
    "# Print header to make sure change was done"
   ]
  },
  {
   "cell_type": "code",
   "execution_count": null,
   "metadata": {
    "colab": {
     "base_uri": "https://localhost:8080/",
     "height": 34
    },
    "id": "Gz4Q2xoGp4AJ",
    "outputId": "2d453984-04ff-4b0e-d646-5890304044db"
   },
   "outputs": [],
   "source": [
    "# Convert price to float\n",
    "\n",
    "# Calculate mean of price after conversion"
   ]
  },
  {
   "cell_type": "markdown",
   "metadata": {
    "id": "HZKW5mWvqg2Z"
   },
   "source": [
    "##### **Task 3:** Convert `listing_added` and `last_review` columns to `datetime`"
   ]
  },
  {
   "cell_type": "markdown",
   "metadata": {
    "id": "9ijLZ4zwmWNS"
   },
   "source": [
    "To perform this task, we will use the following functions:\n",
    "\n",
    "- `pd.to_datetime(format = \"\")`\n",
    "  - `format` takes in the desired date format `\"%Y-%m-%d\"`"
   ]
  },
  {
   "cell_type": "code",
   "execution_count": null,
   "metadata": {
    "colab": {
     "base_uri": "https://localhost:8080/",
     "height": 204
    },
    "id": "cggG5Bucqc6T",
    "outputId": "9f5aed2d-0542-4959-8694-958801d8acdf"
   },
   "outputs": [],
   "source": [
    "# Print header of two columns"
   ]
  },
  {
   "cell_type": "code",
   "execution_count": null,
   "metadata": {
    "id": "9lVyr6-Gs19z"
   },
   "outputs": [],
   "source": [
    "# Convert both columns to datetime"
   ]
  },
  {
   "cell_type": "code",
   "execution_count": null,
   "metadata": {
    "colab": {
     "base_uri": "https://localhost:8080/",
     "height": 170
    },
    "id": "jlVDTYUvtG1f",
    "outputId": "dc7b3850-48ad-45e8-9641-7ba05c7fc6b2"
   },
   "outputs": [],
   "source": [
    "# Print header and datatypes of both columns again"
   ]
  },
  {
   "cell_type": "markdown",
   "metadata": {
    "id": "SvMs1y6gucs6"
   },
   "source": [
    "### Text and categorical data problems"
   ]
  },
  {
   "cell_type": "markdown",
   "metadata": {
    "id": "Z19JboeNukIS"
   },
   "source": [
    "##### **Task 4:** We need to collapse `room_type` into correct categories"
   ]
  },
  {
   "cell_type": "markdown",
   "metadata": {
    "id": "85lW-8k_msaY"
   },
   "source": [
    "To perform this task, we will be using the following methods:\n",
    "\n",
    "- `.str.lower()` to lowercase all rows in a string column\n",
    "- `.str.strip()` to remove all white spaces of each row in a string column\n",
    "- `.replace()` to replace values in a column with another"
   ]
  },
  {
   "cell_type": "code",
   "execution_count": null,
   "metadata": {
    "colab": {
     "base_uri": "https://localhost:8080/",
     "height": 51
    },
    "id": "hPJHPWB4tOlP",
    "outputId": "ad30c92a-b7ed-49a6-c592-e70f82f2a94d"
   },
   "outputs": [],
   "source": [
    "# Print unique values of `room_type`"
   ]
  },
  {
   "cell_type": "code",
   "execution_count": null,
   "metadata": {
    "colab": {
     "base_uri": "https://localhost:8080/",
     "height": 51
    },
    "id": "HwnSnaPEvncy",
    "outputId": "66d9e493-e5c0-471e-8f5b-632f8b0f326d"
   },
   "outputs": [],
   "source": [
    "# Deal with capitalized values"
   ]
  },
  {
   "cell_type": "code",
   "execution_count": null,
   "metadata": {
    "colab": {
     "base_uri": "https://localhost:8080/",
     "height": 51
    },
    "id": "u47Ws-GtvvrC",
    "outputId": "3df8ba6a-9c50-4b1f-83c9-d99e855eca11"
   },
   "outputs": [],
   "source": [
    "# Deal with trailing spaces"
   ]
  },
  {
   "cell_type": "code",
   "execution_count": null,
   "metadata": {
    "colab": {
     "base_uri": "https://localhost:8080/",
     "height": 34
    },
    "id": "tYyyzZ2pwMtx",
    "outputId": "104a9671-5899-4e62-edcb-ca6be7cd29cb"
   },
   "outputs": [],
   "source": [
    "# Replace values to 'Shared room', 'Entire place', 'Private room' and 'Hotel room' (if applicable)."
   ]
  },
  {
   "cell_type": "markdown",
   "metadata": {
    "id": "VA_2KMIkxjhL"
   },
   "source": [
    "##### **Task 5:** Divide `neighbourhood_full` into 2 columns and making sure they are clean"
   ]
  },
  {
   "cell_type": "code",
   "execution_count": null,
   "metadata": {
    "colab": {
     "base_uri": "https://localhost:8080/",
     "height": 119
    },
    "id": "Nc3u9b57xKOu",
    "outputId": "9e815839-48cf-4a48-fda3-0735ddfec707"
   },
   "outputs": [],
   "source": [
    "# Print header of column"
   ]
  },
  {
   "cell_type": "code",
   "execution_count": null,
   "metadata": {
    "colab": {
     "base_uri": "https://localhost:8080/",
     "height": 204
    },
    "id": "88O9T3WYxreo",
    "outputId": "69009b8a-6957-407c-a9ac-2e6434c10169"
   },
   "outputs": [],
   "source": [
    "# Split neighbourhood_full"
   ]
  },
  {
   "cell_type": "code",
   "execution_count": null,
   "metadata": {
    "colab": {
     "base_uri": "https://localhost:8080/",
     "height": 204
    },
    "id": "mmKhwDxkypDJ",
    "outputId": "4fe03746-000b-4281-dfd9-890184f799f5"
   },
   "outputs": [],
   "source": [
    "# Create borough and neighbourhood columns\n",
    "\n",
    "# Print header of columns"
   ]
  },
  {
   "cell_type": "code",
   "execution_count": null,
   "metadata": {
    "id": "SnflzqkwzCnt"
   },
   "outputs": [],
   "source": [
    "# Drop neighbourhood_full column"
   ]
  },
  {
   "cell_type": "code",
   "execution_count": null,
   "metadata": {
    "colab": {
     "base_uri": "https://localhost:8080/",
     "height": 816
    },
    "id": "NJqrhMlNzNxk",
    "outputId": "fb53c48b-df6e-4622-921c-82e8fd715a56"
   },
   "outputs": [],
   "source": [
    "# Print out unique values of borough and neighbourhood"
   ]
  },
  {
   "cell_type": "code",
   "execution_count": null,
   "metadata": {
    "colab": {
     "base_uri": "https://localhost:8080/",
     "height": 731
    },
    "id": "sIC_fuLRz-en",
    "outputId": "76d43de4-1409-44c7-e813-a182b858282e"
   },
   "outputs": [],
   "source": [
    "# Strip white space from neighbourhood column\n",
    "\n",
    "# Print unique values again"
   ]
  },
  {
   "cell_type": "markdown",
   "metadata": {
    "id": "iFUQqbRp1lil"
   },
   "source": [
    "##### **Task 6:** Make sure we set the correct maximum for `rating` column out of range values"
   ]
  },
  {
   "cell_type": "code",
   "execution_count": null,
   "metadata": {
    "colab": {
     "base_uri": "https://localhost:8080/",
     "height": 349
    },
    "id": "toWXIeUx2C0o",
    "outputId": "544d5863-c5ff-4b01-c299-fe5a17cd04a1"
   },
   "outputs": [],
   "source": [
    "# Isolate rows of rating > 5.0"
   ]
  },
  {
   "cell_type": "code",
   "execution_count": null,
   "metadata": {
    "id": "O6GzdjlP2JZN"
   },
   "outputs": [],
   "source": [
    "# Drop these rows and make sure we have effected changes"
   ]
  },
  {
   "cell_type": "code",
   "execution_count": null,
   "metadata": {
    "colab": {
     "base_uri": "https://localhost:8080/",
     "height": 34
    },
    "id": "ll1KvVJX4Pd3",
    "outputId": "5e1a6b80-1ba8-47f0-88ea-6b53e3cdcd3d"
   },
   "outputs": [],
   "source": [
    "# Get the maximum"
   ]
  },
  {
   "cell_type": "markdown",
   "metadata": {
    "id": "KGpasg3L6Je4"
   },
   "source": [
    "##### **Task 7:** Check consitent date format in the date columns."
   ]
  },
  {
   "cell_type": "code",
   "execution_count": null,
   "metadata": {
    "id": "jT_hz8Dj0EhB"
   },
   "outputs": [],
   "source": [
    "# Doing some sanity checks on date data"
   ]
  },
  {
   "cell_type": "code",
   "execution_count": null,
   "metadata": {
    "colab": {
     "base_uri": "https://localhost:8080/",
     "height": 69
    },
    "id": "pUKi4Dbi27Zb",
    "outputId": "a34f2e24-1ae0-42ce-f779-437549f1dce8"
   },
   "outputs": [],
   "source": [
    "# Are there reviews in the future?"
   ]
  },
  {
   "cell_type": "code",
   "execution_count": null,
   "metadata": {
    "colab": {
     "base_uri": "https://localhost:8080/",
     "height": 499
    },
    "id": "dZO_yoOZ2-jf",
    "outputId": "44ea0a3e-dbec-49fd-c004-27fe8d14ada4"
   },
   "outputs": [],
   "source": [
    "# Are there listings in the future?"
   ]
  },
  {
   "cell_type": "code",
   "execution_count": null,
   "metadata": {
    "id": "3xJUlJFm3cmc"
   },
   "outputs": [],
   "source": [
    "# Drop these rows since they are only 4 rows"
   ]
  },
  {
   "cell_type": "code",
   "execution_count": null,
   "metadata": {
    "colab": {
     "base_uri": "https://localhost:8080/",
     "height": 250
    },
    "id": "BvqMxmux4e_Q",
    "outputId": "acda368c-0aaf-4ea2-fce3-583502a1a4d1"
   },
   "outputs": [],
   "source": [
    "# Are there any listings with listing_added > last_review"
   ]
  },
  {
   "cell_type": "code",
   "execution_count": null,
   "metadata": {
    "id": "cCziTT7T4xbT"
   },
   "outputs": [],
   "source": [
    "# Drop these rows since they are only 2 rows"
   ]
  },
  {
   "cell_type": "markdown",
   "metadata": {
    "id": "JD1ChXPF6BR7"
   },
   "source": [
    "##### **Task 8:** Let's deal with duplicate data"
   ]
  },
  {
   "cell_type": "markdown",
   "metadata": {
    "id": "hz9oQHyt8KmO"
   },
   "source": [
    "\n",
    "There are two notable types of duplicate data:\n",
    "\n",
    "- Identical duplicate data across all columns\n",
    "- Identical duplicate data cross most or some columns\n",
    "\n",
    "To diagnose, and deal with duplicate data, we will be using the following methods and functions:\n",
    "\n",
    "- `.duplicated(subset = , keep = )`\n",
    "  - `subset` lets us pick one or more columns with duplicate values.\n",
    "  - `keep` returns lets us return all instances of duplicate values.\n",
    "- `.drop_duplicates(subset = , keep = )`\n",
    "  "
   ]
  },
  {
   "cell_type": "code",
   "execution_count": null,
   "metadata": {
    "colab": {
     "base_uri": "https://localhost:8080/",
     "height": 462
    },
    "id": "_m3Gdg7x6ATJ",
    "outputId": "d66e76c5-0d10-4b8b-ded5-f0299630652e"
   },
   "outputs": [],
   "source": [
    "# Print the header of the DataFrame again"
   ]
  },
  {
   "cell_type": "code",
   "execution_count": null,
   "metadata": {
    "colab": {
     "base_uri": "https://localhost:8080/",
     "height": 221
    },
    "id": "EzT8q3SCIW7w",
    "outputId": "72825341-2a6b-4db3-b32a-ab1a806be314"
   },
   "outputs": [],
   "source": [
    "# Find duplicates"
   ]
  },
  {
   "cell_type": "code",
   "execution_count": null,
   "metadata": {
    "colab": {
     "base_uri": "https://localhost:8080/",
     "height": 1000
    },
    "id": "pqVxdea4Ik5g",
    "outputId": "c7b21e06-1fc6-4466-9bdf-64509d3c5a6a"
   },
   "outputs": [],
   "source": [
    "# Find duplicates"
   ]
  },
  {
   "cell_type": "code",
   "execution_count": null,
   "metadata": {
    "id": "uSXEpMFlJCJc"
   },
   "outputs": [],
   "source": [
    "# Remove identical duplicates"
   ]
  },
  {
   "cell_type": "code",
   "execution_count": null,
   "metadata": {
    "id": "nYf1M1cNKIIN"
   },
   "outputs": [],
   "source": [
    "# Find non-identical duplicates"
   ]
  },
  {
   "cell_type": "code",
   "execution_count": null,
   "metadata": {
    "colab": {
     "base_uri": "https://localhost:8080/",
     "height": 1000
    },
    "id": "wiN1SBw8Kizr",
    "outputId": "2cdb3279-a0e0-4806-9bbe-2506539332c4"
   },
   "outputs": [],
   "source": [
    "# Show all duplicates"
   ]
  },
  {
   "cell_type": "markdown",
   "metadata": {
    "id": "E6_O2EYkcGoF"
   },
   "source": [
    "To treat identical duplicates across some columns, we will chain the `.groupby()` and `.agg()` methods where we group by the column used to find duplicates (`listing_id`) and aggregate across statistical measures for `price`, `rating` and `list_added`. The `.agg()` method takes in a dictionary with each column's aggregation method - we will use the following aggregations:\n",
    "\n",
    "- `mean` for `price` and `rating` columns\n",
    "- `max` for `listing_added` column\n",
    "- `first` for all remaining column\n",
    "\n",
    "*A note on dictionary comprehensions:*\n",
    "\n",
    "Dictionaries are useful data structures in Python with the following format\n",
    "`my_dictionary = {key: value}` where a `key` is mapped to a `value` and whose `value` can be returned with `my_dictionary[key]` - dictionary comprehensions allow us to programmatically create dicitonaries using the structure:\n",
    "\n",
    "```\n",
    "{x: x*2 for x in [1,2,3,4,5]} \n",
    "{1:2, 2:4, 3:6, 4:8, 5:10}\n",
    "```"
   ]
  },
  {
   "cell_type": "code",
   "execution_count": null,
   "metadata": {
    "colab": {
     "base_uri": "https://localhost:8080/",
     "height": 102
    },
    "id": "lYhIclpMqa_i",
    "outputId": "a9fb963d-8b7b-4db8-e8f1-a1ffc13835be"
   },
   "outputs": [],
   "source": [
    "# Get column names from airbnb"
   ]
  },
  {
   "cell_type": "code",
   "execution_count": null,
   "metadata": {
    "colab": {
     "base_uri": "https://localhost:8080/",
     "height": 323
    },
    "id": "CxCJ3xPbKmJg",
    "outputId": "41b354f9-6a4f-4ccc-d6ac-57b8030400ef"
   },
   "outputs": [],
   "source": [
    "# Create dictionary comprehension with 'first' as value for all columns not being aggregated"
   ]
  },
  {
   "cell_type": "code",
   "execution_count": null,
   "metadata": {
    "id": "jaS5j-KsRUD-"
   },
   "outputs": [],
   "source": [
    "# Remove non-identical duplicates"
   ]
  },
  {
   "cell_type": "code",
   "execution_count": null,
   "metadata": {
    "colab": {
     "base_uri": "https://localhost:8080/",
     "height": 69
    },
    "id": "q93L6waFWpTq",
    "outputId": "fc9621eb-236e-40c3-e087-f23393ec4e23"
   },
   "outputs": [],
   "source": [
    "# Make sure no duplication happened"
   ]
  },
  {
   "cell_type": "code",
   "execution_count": null,
   "metadata": {
    "colab": {
     "base_uri": "https://localhost:8080/",
     "height": 445
    },
    "id": "ZmIRBaZgW4q2",
    "outputId": "86fdbcff-636a-4b20-c310-a070c3857b3a"
   },
   "outputs": [],
   "source": [
    "# Print header of DataFrame"
   ]
  }
 ],
 "metadata": {
  "colab": {
   "name": "Cleaning Data in Python live session.ipynb",
   "provenance": []
  },
  "kernelspec": {
   "display_name": "Python 3 (ipykernel)",
   "language": "python",
   "name": "python3"
  },
  "language_info": {
   "codemirror_mode": {
    "name": "ipython",
    "version": 3
   },
   "file_extension": ".py",
   "mimetype": "text/x-python",
   "name": "python",
   "nbconvert_exporter": "python",
   "pygments_lexer": "ipython3",
   "version": "3.10.11"
  }
 },
 "nbformat": 4,
 "nbformat_minor": 4
}
